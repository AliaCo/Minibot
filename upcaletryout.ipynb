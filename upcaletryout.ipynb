{
 "cells": [
  {
   "cell_type": "markdown",
   "id": "3426e5b7-f956-48b7-88f1-cf3297a23617",
   "metadata": {},
   "source": [
    "## Image Super-Resolution \n",
    "\"is a machine learning task where the goal is to increase the resolution of an image\" \n",
    "* https://paperswithcode.com/task/image-super-resolution\n",
    "* https://huggingface.co/docs/diffusers/api/pipelines/stable_diffusion/upscale"
   ]
  },
  {
   "cell_type": "code",
   "execution_count": null,
   "id": "b0578732-70f7-4f61-88f2-6365db4eba6e",
   "metadata": {},
   "outputs": [],
   "source": []
  }
 ],
 "metadata": {
  "kernelspec": {
   "display_name": "Python 3 (ipykernel)",
   "language": "python",
   "name": "python3"
  },
  "language_info": {
   "codemirror_mode": {
    "name": "ipython",
    "version": 3
   },
   "file_extension": ".py",
   "mimetype": "text/x-python",
   "name": "python",
   "nbconvert_exporter": "python",
   "pygments_lexer": "ipython3",
   "version": "3.10.12"
  }
 },
 "nbformat": 4,
 "nbformat_minor": 5
}
